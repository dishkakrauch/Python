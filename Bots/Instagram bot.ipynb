#import libararies
import instabot

#set tags for bot
hashtags = ['Краснодар', 'краснодар', 'крд', 'Krasnodar']

#inialize bot
bot = instabot.Bot(
    #whitelist_file='whitelist.txt',
    #blacklist_file='blacklist.txt',
    #comments_file='comments.txt',
    #followed_file='followed.txt',
    #unfollowed_file='unfollowed.txt',
    #skipped_file='skipped.txt',
    #friends_file='friends.txt',
    proxy=None,
    max_likes_per_day=100,
    max_unlikes_per_day=100,
    max_follows_per_day=100,
    max_unfollows_per_day=100,
    max_comments_per_day=100,
    max_blocks_per_day=100,
    max_unblocks_per_day=100,
    max_likes_to_like=100,
    #min_likes_to_like=20,
    max_messages_per_day=100,
    filter_users=True,
    #filter_private_users=True,
    #filter_users_without_profile_photo=True,
    filter_previously_followed=False,
    filter_business_accounts=True,
    filter_verified_accounts=True,
    max_followers_to_follow=2000,
    min_followers_to_follow=10,
    max_following_to_follow=2000,
    min_following_to_follow=10,
    max_followers_to_following_ratio=10,
    max_following_to_followers_ratio=2,
    min_media_count_to_follow=3,
    max_following_to_block=2000,
    like_delay=100,
    unlike_delay=100,
    follow_delay=100,
    unfollow_delay=100,
    comment_delay=100,
    block_delay=100,
    unblock_delay=100,
    message_delay=100,
    stop_words=('shop', 'store', 'free', 'магазин', 'бесплатно', 'продажа', 'скидка'),
    #blacklist_hashtags=['#shop', '#store', '#free', '#магазин', '#бесплатно', '#продажа', '#скидка'],
    #blocked_actions_protection=True,
    verbosity=True,
    #device=None
)

#login bot
bot.login(
    username='username',
    password='*******',
    proxy=None
)

#load txt with one cell that consits "1" or "0"
handle = open("command.txt", "r")
data = handle.read()
data = int(data)

#set variables
wait_for_follow = 0
user_id = bot.get_user_id_from_username('breloque_krd')
following = len(bot.get_user_following(user_id=user_id))

#decide what we're doing next
if data==0:
    go_follow = 0
else:
    go_follow=1

#like timeline
bot.like_timeline()

#endless script
for i in range(1, 10000001):
    try:
        #if we have less than 7k following go ahead and follow more
        if go_follow==1:
            print('GOING TO FOLLOW')
            for h in hashtags:
                users = bot.get_hashtag_users(h)
                bot.follow_users(users)
            following = len(bot.get_user_following(user_id=user_id))
            if following>7000:
                go_follow = 0
                wait_for_follow = 0
            #print('SLEEPING 2 HOURS')
            #time.sleep(2*60*60)
        #else we unfollow
        else:
            #we wait for 7 days minimum before unfollow
            wait_for_follow = wait_for_follow+1
            if wait_for_follow>-1:
                print('GOING TO UNFOLLOW')
                bot.unfollow_everyone()
                #print('SLEEPING 2 HOURS')
                #time.sleep(2*60*60)
                following = len(bot.get_user_following(user_id=user_id))
                if following<100:
                    go_follow = 1
                    wait_for_follow = 0
        bot.like_timeline()
        for h in hashtags:
            bot.like_hashtag(h)
        #print('SLEEPING 2 HOURS')
        print('UNFOLLOW ITERATIONS IS', wait_for_follow)
        #time.sleep(2*60*60)
    except Exception as e:
        print(e)
    finally:
        #limits.reset_counters(bot)
        bot.print_counters()
